{
 "cells": [
  {
   "cell_type": "code",
   "execution_count": 5,
   "metadata": {},
   "outputs": [],
   "source": [
    "no_of_cars = 4\n",
    "speed = [5,1,4,3]\n",
    "pos = [1,2,3,4]\n",
    "total_distance = 100000"
   ]
  },
  {
   "cell_type": "code",
   "execution_count": 4,
   "metadata": {},
   "outputs": [
    {
     "data": {
      "text/plain": [
       "4"
      ]
     },
     "execution_count": 4,
     "metadata": {},
     "output_type": "execute_result"
    }
   ],
   "source": [
    "# Divide and conquer\n",
    "\n",
    "# Approach to be used : \n",
    "# step 1 : (Divide) For each car, identify the cars behind it using position of the car \n",
    "# step 2 : (conquer) find how many of this cars have speed more than that of the current car because all these cars would overtake the current car.\n",
    "# step 3 : (combine) find the total overtake by adding all these overtake .\n",
    "\n",
    "overtake_count = 0\n",
    "\n",
    "for i in range(no_of_cars):\n",
    "    init_position = pos[i]\n",
    "    speed_of_car = speed[i]\n",
    "    overtaking_cars = [j for j in range(no_of_cars) if pos[j] < pos and speed[j] > speed_of_car]\n",
    "    overtake_count += len(overtaking_cars)\n",
    "\n",
    "overtake_count"
   ]
  }
 ],
 "metadata": {
  "interpreter": {
   "hash": "17a4f45de6685bf2d7d98c34a7ba04dade22de544eeee89dbc392458e8a9b46d"
  },
  "kernelspec": {
   "display_name": "Python 3.8.8 ('tensorflow')",
   "language": "python",
   "name": "python3"
  },
  "language_info": {
   "codemirror_mode": {
    "name": "ipython",
    "version": 3
   },
   "file_extension": ".py",
   "mimetype": "text/x-python",
   "name": "python",
   "nbconvert_exporter": "python",
   "pygments_lexer": "ipython3",
   "version": "3.8.8"
  },
  "orig_nbformat": 4
 },
 "nbformat": 4,
 "nbformat_minor": 2
}
