{
 "cells": [
  {
   "cell_type": "code",
   "execution_count": 1,
   "metadata": {},
   "outputs": [],
   "source": [
    "import pandas as pd\n",
    "import numpy as np\n",
    "from datetime import datetime"
   ]
  },
  {
   "cell_type": "code",
   "execution_count": 62,
   "metadata": {},
   "outputs": [],
   "source": [
    "# Implement Max Heap using array\n",
    "class MaxHeap:\n",
    "    \"\"\"\n",
    "    Max Heap Class to create a max Heap using Python List (Array)\n",
    "    \"\"\"\n",
    "    def __init__(self,max_size):\n",
    "        \"\"\"\n",
    "        Initialize the heap with max size\n",
    "        \"\"\"\n",
    "        self.heap = []\n",
    "        self.size = 0\n",
    "        self.max_size = max_size\n",
    "    \n",
    "    def insert(self, value):\n",
    "        \"\"\"\n",
    "        Insert a value into the heap and heapify up to make it a max heap again\n",
    "        \"\"\"\n",
    "        if self.size >= self.max_size:\n",
    "            raise Exception('Heap is full')\n",
    "\n",
    "        self.heap.append(value)\n",
    "        self.size += 1\n",
    "        self.heapify_up(self.size - 1)\n",
    "    \n",
    "    def heapify_up(self, index):\n",
    "        \"\"\"\n",
    "        This function would heapify up the value at index\n",
    "        \"\"\"\n",
    "        parent = (index - 1) // 2\n",
    "        if parent < 0:\n",
    "            return\n",
    "        if self.heap[index] > self.heap[parent]: # Exchange the value if the parent is smaller than the child\n",
    "            self.heap[index], self.heap[parent] = self.heap[parent], self.heap[index]\n",
    "            self.heapify_up(parent)\n",
    "\n",
    "    def extract_max(self):\n",
    "        \"\"\"\n",
    "        This function would get the maximum value from the heap and index 0, replace the 0 index with last elemeent \n",
    "        and heapify down to make it a max heap again\n",
    "        \"\"\"\n",
    "        if self.size <= 0:\n",
    "            raise Exception('Heap is empty')\n",
    "        max_value = self.heap[0]\n",
    "        self.heap[0] = self.heap[self.size - 1]\n",
    "        self.size -= 1\n",
    "        self.heapify_down(0)\n",
    "        return max_value\n",
    "\n",
    "    def heapify_down(self, index):\n",
    "        \"\"\"\n",
    "        This function would heapify down the value at index\n",
    "        \"\"\"\n",
    "        left = (2 * index) + 1\n",
    "        right = (2 * index) + 2\n",
    "        largest = index\n",
    "\n",
    "        # check which is the largest value among the left and right child\n",
    "        if left < self.size and self.heap[left] > self.heap[largest]:\n",
    "            largest = left\n",
    "        if right < self.size and self.heap[right] > self.heap[largest]:\n",
    "            largest = right\n",
    "\n",
    "        # if the largest value is not the index, exchange the value and heapify down\n",
    "        if largest != index:\n",
    "            self.heap[index], self.heap[largest] = self.heap[largest], self.heap[index]\n",
    "            self.heapify_down(largest)\n",
    "    \n",
    "    def get_max(self):\n",
    "        '''\n",
    "        This function would get the maximum value from the heap\n",
    "        '''\n",
    "        if self.size <= 0:\n",
    "            raise Exception('Heap is empty')\n",
    "        return self.heap[0]\n",
    "    \n",
    "    def get_size(self):\n",
    "        \"\"\"\n",
    "        This function would get the size of the heap\n",
    "        \"\"\"\n",
    "        return self.size\n",
    "\n",
    "    "
   ]
  },
  {
   "cell_type": "code",
   "execution_count": 8,
   "metadata": {},
   "outputs": [],
   "source": [
    "# # Implement Heap using array\n",
    "# class Heap:\n",
    "#     def __init__(self, size):\n",
    "#         self.size = size\n",
    "#         self.heap = [None] * size\n",
    "#         self.heap_size = 0\n",
    "\n",
    "#     def insert(self, value):\n",
    "#         if self.heap_size == self.size:\n",
    "#             raise Exception('Heap is full')\n",
    "#         self.heap[self.heap_size] = value\n",
    "#         self.heap_size += 1\n",
    "#         self.__heapify_up(self.heap_size - 1)\n",
    "\n",
    "#     def extract_min(self):\n",
    "#         if self.heap_size == 0:\n",
    "#             raise Exception('Heap is empty')\n",
    "#         min_value = self.heap[0]\n",
    "#         self.heap[0] = self.heap[self.heap_size - 1]\n",
    "#         self.heap_size -= 1\n",
    "#         self.__heapify_down(0)\n",
    "#         return min_value\n",
    "\n",
    "#     def __heapify_up(self, index):\n",
    "#         parent_index = (index - 1) // 2\n",
    "#         if parent_index < 0:\n",
    "#             return\n",
    "#         if self.heap[parent_index] > self.heap[index]:\n",
    "#             self.__swap(parent_index, index)\n",
    "#             self.__heapify_up(parent_index)\n",
    "\n",
    "#     def __heapify_down(self, index):\n",
    "#         left_child_index = 2 * index + 1\n",
    "#         right_child_index = 2 * index + 2\n",
    "#         if left_child_index >= self.heap_size:\n",
    "#             return\n",
    "#         if right_child_index >= self.heap_size:\n",
    "#             if self.heap[index] > self.heap[left_child_index]:\n",
    "#                 self.__swap(index, left_child_index)\n",
    "#             return\n",
    "#         if self.heap[left_child_index] < self.heap[right_child_index]:\n",
    "#             if self.heap[index] > self.heap[left_child_index]:\n",
    "#                 self.__swap(index, left_child_index)\n",
    "#                 self.__heapify_down(left_child_index)\n",
    "#     def __swap(self, i, j):\n",
    "#         self.heap[i], self.heap[j] = self.heap[j], self.heap[i]"
   ]
  },
  {
   "cell_type": "code",
   "execution_count": 80,
   "metadata": {},
   "outputs": [],
   "source": [
    "def get_cost_for_selected_sweets(selected_price_list,selected_shipping_list):\n",
    "    \"\"\"\n",
    "    This function would calculate the total cost for the selected sweets based on total price and min of shipping cost times number of sweets\n",
    "    \"\"\"\n",
    "    return sum(selected_price_list) + min(selected_shipping_list)*len(selected_shipping_list)"
   ]
  },
  {
   "cell_type": "code",
   "execution_count": 142,
   "metadata": {},
   "outputs": [],
   "source": [
    "def get_max_cost(price_list,shipping_list,items_count):\n",
    "    \"\"\"\n",
    "    This function would select the items_count number of sweets from price_list that get maximum cost \n",
    "    \"\"\"\n",
    "    no_of_sweets = len(price_list)\n",
    "    if no_of_sweets != len(shipping_list):\n",
    "        raise Exception('Price and shipping list should be of same length')\n",
    "    if items_count > no_of_sweets:\n",
    "        raise Exception('Items count should be less than or equal to the number of sweets')\n",
    "\n",
    "    # If only one sweet, return the sweet with maximum sum of price and shipping cost\n",
    "    if items_count == 1:\n",
    "        return max([price_list[i]+shipping_list[i] for i in range(no_of_sweets)])\n",
    "\n",
    "    # If total items required is equally to total sweets available, then no need to go for selection logic and we can \n",
    "    # compute the max cost directly\n",
    "    if items_count == no_of_sweets:\n",
    "        return get_cost_for_selected_sweets(price_list,shipping_list)\n",
    "    \n",
    "    # Now when items to select is less the total sweets available then we have to select the items greedily\n",
    "    # We can use a heap to select the items greedily based on hint provided in the problem\n",
    "\n",
    "\n",
    "    # Create a MaxHeap with the size of the number of sweets to store the cost of each sweet and shippping price so that we \n",
    "    # can get the top shipping price with the least time compexity\n",
    "    # price_max_heap = MaxHeap(no_of_sweets)\n",
    "    shipping_max_heap = MaxHeap(no_of_sweets)\n",
    "\n",
    "    for i in range(no_of_sweets):\n",
    "        # price_max_heap.insert(price_list[i])\n",
    "        shipping_max_heap.insert(shipping_list[i])\n",
    "\n",
    "    selected_items_price_list = []\n",
    "    selected_items_shipping_cost_list = []\n",
    "    last_max_shipping_price = 0\n",
    "    all_selected_indx = []\n",
    "\n",
    "    # Select the items_count - 1 sweets based on max shipping price\n",
    "    while len(selected_items_price_list) < (items_count - 1):\n",
    "        shipping_list_max_value = shipping_max_heap.extract_max()\n",
    "\n",
    "        # print(shipping_list_max_value)\n",
    "        # If the max shipping price is same as the last max shipping price, then we can ignore that sweet and move to next largest\n",
    "        # as the logic in hint provided\n",
    "        if shipping_list_max_value == last_max_shipping_price:\n",
    "            continue\n",
    "        \n",
    "        last_max_shipping_price = shipping_list_max_value\n",
    "\n",
    "        # we have to get the sweet's price based on the shipping price we got above also add it to list of all_selected_indx\n",
    "        sweet_indx = getIndex(shipping_list,shipping_list_max_value)\n",
    "        \n",
    "        if len(sweet_indx) > 1:\n",
    "            # if more than one sweet has the same shipping price, then we have to get the sweet with maximum price\n",
    "            max_value = -1\n",
    "            for indx in sweet_indx:\n",
    "                if price_list[indx] > max_value:\n",
    "                    max_value = price_list[indx]\n",
    "                    max_index = indx\n",
    "            all_selected_indx.append(max_index)\n",
    "            selected_items_price_list.append(max_value)\n",
    "            selected_items_shipping_cost_list.append(shipping_list_max_value)\n",
    "        else:\n",
    "            # In case there is only one sweet with the same shipping price, then add that to select items list\n",
    "            all_selected_indx.append(sweet_indx[0])\n",
    "            selected_items_price_list.append(price_list[sweet_indx[0]])\n",
    "            selected_items_shipping_cost_list.append(shipping_list[sweet_indx[0]])\n",
    "    \n",
    "    # print(selected_items_price_list)\n",
    "    # print(selected_items_shipping_cost_list)\n",
    "    # print(all_selected_indx)\n",
    "    # print(\"=============================================\")\n",
    "    # Now we have to get the last sweet by iterating through rest of the sweets and finding maximum cost\n",
    "    max_cost = -1\n",
    "    # lets iterate through the rest of the sweets\n",
    "    for i in range(num_of_elements):\n",
    "        if i not in all_selected_indx:\n",
    "            temp_price_list = selected_items_price_list.copy()\n",
    "            temp_price_list.append(price_list[i])\n",
    "            temp_shipping_list = selected_items_shipping_cost_list.copy()\n",
    "            temp_shipping_list.append(shipping_list[i])\n",
    "            cost = get_cost_for_selected_sweets(temp_price_list,temp_shipping_list)\n",
    "            if cost > max_cost:\n",
    "                max_cost = cost\n",
    "                # print(temp_price_list)\n",
    "\n",
    "    return max_cost"
   ]
  },
  {
   "cell_type": "code",
   "execution_count": 133,
   "metadata": {},
   "outputs": [
    {
     "data": {
      "text/plain": [
       "35"
      ]
     },
     "execution_count": 133,
     "metadata": {},
     "output_type": "execute_result"
    }
   ],
   "source": [
    "val1 = [8,7,2,6,10]\n",
    "val2 = [1,5,8,4,8]\n",
    "get_max_cost(price_list=val1,shipping_list=val2,items_count=3)"
   ]
  },
  {
   "cell_type": "code",
   "execution_count": 135,
   "metadata": {},
   "outputs": [
    {
     "data": {
      "text/plain": [
       "30"
      ]
     },
     "execution_count": 135,
     "metadata": {},
     "output_type": "execute_result"
    }
   ],
   "source": [
    "val1 = [12,7,9,14,10]\n",
    "val2 = [3,8,7,1,2]\n",
    "get_max_cost(price_list=val1,shipping_list=val2,items_count=2)"
   ]
  },
  {
   "cell_type": "code",
   "execution_count": 143,
   "metadata": {},
   "outputs": [
    {
     "data": {
      "text/plain": [
       "59"
      ]
     },
     "execution_count": 143,
     "metadata": {},
     "output_type": "execute_result"
    }
   ],
   "source": [
    "val1 = [12,13,5,9,10,16,20]\n",
    "val2 = [6,5,8,3,9,1,9]\n",
    "get_max_cost(price_list=val1,shipping_list=val2,items_count=3)"
   ]
  },
  {
   "cell_type": "code",
   "execution_count": 104,
   "metadata": {},
   "outputs": [],
   "source": [
    "# fetches the all index values for the given element available in the list\n",
    "def getIndex(listOfElements, element):\n",
    "    indexList = []\n",
    "    for i in range(len(listOfElements)):\n",
    "        if listOfElements[i] == element:\n",
    "            indexList.append(i)\n",
    "    return indexList\n"
   ]
  },
  {
   "cell_type": "code",
   "execution_count": 181,
   "metadata": {},
   "outputs": [
    {
     "data": {
      "text/plain": [
       "['10\\n',\n",
       " '5 3\\n',\n",
       " '8 7 2 6 10\\n',\n",
       " '1 5 8 4 8\\n',\n",
       " '5 2\\n',\n",
       " '12 7 9 14 10\\n',\n",
       " '3 8 7 1 2\\n',\n",
       " '6 1\\n',\n",
       " '7 12 18 21 9 8\\n',\n",
       " '4 7 9 3 8 1\\n',\n",
       " '3 3\\n',\n",
       " '4 6 8\\n',\n",
       " '1 2 3\\n',\n",
       " '4 3\\n',\n",
       " '58 45 78 47\\n',\n",
       " '0 0 22 14\\n',\n",
       " '9 7\\n',\n",
       " '55 90 85 7 63 24 17 45 82\\n',\n",
       " '20 4 10 4 14 17 5 19 7\\n',\n",
       " '9 6\\n',\n",
       " '67 2 87 46 8 87 60 80 84\\n',\n",
       " '33 2 48 45 4 36 17 55 70\\n',\n",
       " '7 3\\n',\n",
       " '99 67 64 62 86 16 11\\n',\n",
       " '41 18 32 38 24 14 11\\n',\n",
       " '7 3\\n',\n",
       " '59 9 45 73 53 4 37\\n',\n",
       " '53 5 35 19 44 3 21\\n',\n",
       " '6 5\\n',\n",
       " '26 53 45 2 55 85\\n',\n",
       " '23 30 24 1 0 31']"
      ]
     },
     "execution_count": 181,
     "metadata": {},
     "output_type": "execute_result"
    }
   ],
   "source": [
    "file = open(\"inputPS9.txt\", \"r\")\n",
    "file.readlines()"
   ]
  },
  {
   "cell_type": "code",
   "execution_count": null,
   "metadata": {},
   "outputs": [],
   "source": []
  },
  {
   "cell_type": "markdown",
   "metadata": {},
   "source": [
    "# Alternate Method (Brute Force method)"
   ]
  },
  {
   "cell_type": "code",
   "execution_count": 2,
   "metadata": {},
   "outputs": [],
   "source": [
    "val1 = [8,7,2,6,10]\n",
    "val2 = [1,5,8,4,8]\n",
    "num = 3"
   ]
  },
  {
   "cell_type": "code",
   "execution_count": 3,
   "metadata": {},
   "outputs": [
    {
     "data": {
      "text/plain": [
       "38"
      ]
     },
     "execution_count": 3,
     "metadata": {},
     "output_type": "execute_result"
    }
   ],
   "source": [
    "def get_total_cost(list_item_price, list_shipping_price):\n",
    "    return sum(list_item_price) + (min(list_shipping_price) * len(list_shipping_price))\n",
    "\n",
    "get_total_cost(val1, val2)"
   ]
  },
  {
   "cell_type": "code",
   "execution_count": 145,
   "metadata": {},
   "outputs": [],
   "source": [
    "import pandas as pd\n",
    "import numpy as np\n",
    "import itertools\n",
    "\n",
    "def get_max_value(val1,val2,num):\n",
    "    if len(val1) != len(val2):\n",
    "        raise Exception('Length of both array should be same')\n",
    "    if num > len(val1):\n",
    "        raise Exception('Number of element should be less than length of array')\n",
    "    if num <= 0:\n",
    "        raise Exception('Number of element should be greater than 0')\n",
    "    for i in range(len(val1)):\n",
    "        if val1[i] < 0 or val2[i] < 0:\n",
    "            raise Exception('Value of both array should be greater than 0')\n",
    "    # Lets brute force through all combination of values and find the max value\n",
    "    max_value = 0\n",
    "    max_combination = []\n",
    "    indx_list = list(range(len(val1)))\n",
    "    # combination_dataframe = pd.DataFrame(list(itertools.combinations(indx_list, num)), columns=[\"combination{}\".format(i) for i in range(num)])\n",
    "    for selected_combo_indx in itertools.combinations(indx_list, num):\n",
    "        # selected_combo_indx = combination_dataframe.iloc[i,].to_list()\n",
    "        total = get_total_cost([val1[i] for i in selected_combo_indx],[val2[i] for i in selected_combo_indx])\n",
    "        # print([val1[i] for i in selected_combo_indx],total)\n",
    "        if total > max_value:\n",
    "            max_value = total\n",
    "            max_combination = selected_combo_indx\n",
    "    \n",
    "    return max_value#, max_combination"
   ]
  },
  {
   "cell_type": "code",
   "execution_count": 146,
   "metadata": {},
   "outputs": [
    {
     "data": {
      "text/plain": [
       "60"
      ]
     },
     "execution_count": 146,
     "metadata": {},
     "output_type": "execute_result"
    }
   ],
   "source": [
    "val1 = [12,13,5,9,10,16,20]\n",
    "val2 = [6,5,8,3,9,1,9]\n",
    "num = 3\n",
    "get_max_value(val1,val2,num)"
   ]
  },
  {
   "cell_type": "code",
   "execution_count": 176,
   "metadata": {},
   "outputs": [
    {
     "name": "stdout",
     "output_type": "stream",
     "text": [
      "[6, 5]\n",
      "[26, 53, 45, 2, 55, 85]\n",
      "[23, 30, 24, 1, 0, 31]\n",
      "=====================\n",
      "264\n",
      "264\n"
     ]
    }
   ],
   "source": [
    "# Generate random test cases\n",
    "import random\n",
    "import math\n",
    "\n",
    "total_item = math.floor(random.random() * 10)\n",
    "num_of_elements = math.ceil(random.random() * total_item)\n",
    "price_list = []\n",
    "shipping_list = []\n",
    "for i in range(total_item):\n",
    "    price = random.randint(0,100)\n",
    "    price_list.append(price)\n",
    "    shipping_list.append(random.randint(0,price))\n",
    "\n",
    "print([total_item,num_of_elements])\n",
    "print(price_list)\n",
    "print(shipping_list)\n",
    "\n",
    "print(\"=====================\")\n",
    "print(get_max_value(price_list,shipping_list,num_of_elements))\n",
    "print(get_max_cost(price_list,shipping_list,num_of_elements))\n"
   ]
  },
  {
   "cell_type": "code",
   "execution_count": 50,
   "metadata": {},
   "outputs": [
    {
     "data": {
      "text/plain": [
       "[88, 46, 47, 90, 58, 20, 30, 109, 61, 87]"
      ]
     },
     "execution_count": 50,
     "metadata": {},
     "output_type": "execute_result"
    }
   ],
   "source": [
    "[price_list[i] + shipping_list[i] for i in range(total_item)]"
   ]
  },
  {
   "cell_type": "code",
   "execution_count": null,
   "metadata": {},
   "outputs": [],
   "source": []
  },
  {
   "cell_type": "code",
   "execution_count": null,
   "metadata": {},
   "outputs": [],
   "source": []
  }
 ],
 "metadata": {
  "interpreter": {
   "hash": "17a4f45de6685bf2d7d98c34a7ba04dade22de544eeee89dbc392458e8a9b46d"
  },
  "kernelspec": {
   "display_name": "Python 3.8.8 64-bit ('tensorflow': conda)",
   "language": "python",
   "name": "python3"
  },
  "language_info": {
   "codemirror_mode": {
    "name": "ipython",
    "version": 3
   },
   "file_extension": ".py",
   "mimetype": "text/x-python",
   "name": "python",
   "nbconvert_exporter": "python",
   "pygments_lexer": "ipython3",
   "version": "3.8.8"
  },
  "orig_nbformat": 4
 },
 "nbformat": 4,
 "nbformat_minor": 2
}
